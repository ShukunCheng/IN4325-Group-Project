{
 "cells": [
  {
   "cell_type": "markdown",
   "metadata": {},
   "source": [
    "# Introduction to PyTerrier\n",
    "\n",
    "_IN4325: Information retrieval lecture, TU Delft_\n",
    "\n",
    "**Part 1: Setup**\n",
    "\n",
    "[Terrier](http://terrier.org) is an open-source information retrieval platform aimed at reserach and experimentation. We'll use [PyTerrier](https://pyterrier.readthedocs.io/), which provides a Python API for Terrier, in this lecture. This series of notebooks gives a brief introduction to PyTerrier.\n",
    "\n",
    "## Installation\n",
    "\n",
    "PyTerrier can be installed using `pip`:\n"
   ]
  },
  {
   "cell_type": "code",
   "execution_count": null,
   "metadata": {
    "vscode": {
     "languageId": "shellscript"
    }
   },
   "outputs": [],
   "source": [
    "pip install python-terrier"
   ]
  },
  {
   "cell_type": "markdown",
   "metadata": {},
   "source": [
    "You may want to consider using virtual environments, such as [`venv`](https://docs.python.org/3/library/venv.html) or [`conda`](https://www.anaconda.com/download). You'll also need an up-to-date version of the [Java development kit](https://www.oracle.com/java/technologies/downloads/) installed and the `JAVA_HOME` environment variable set. More detailed installation instructions and troubleshooting can be found [here](https://pyterrier.readthedocs.io/en/latest/installation.html).\n",
    "\n",
    "Now you should be able to import `pyterrier`:\n"
   ]
  },
  {
   "cell_type": "code",
   "execution_count": null,
   "metadata": {},
   "outputs": [],
   "source": [
    "import pyterrier as pt"
   ]
  },
  {
   "cell_type": "markdown",
   "metadata": {},
   "source": [
    "## Configuration\n",
    "\n",
    "As PyTerrier uses Terrier under the hood, we need to initially load the corresponding Java package. In addition, we can set PyTerrier up to show progress bars in Jupyter notebooks correctly:\n"
   ]
  },
  {
   "cell_type": "code",
   "execution_count": null,
   "metadata": {},
   "outputs": [],
   "source": [
    "if not pt.started():\n",
    "    pt.init(tqdm=\"notebook\")"
   ]
  },
  {
   "cell_type": "markdown",
   "metadata": {},
   "source": [
    "## A test run\n",
    "\n",
    "Time to test our setup! PyTerrier provides support for loading and indexing a large number of IR datasets (more on that later). Let's load the [ANTIQUE](https://arxiv.org/abs/1905.08957) dataset:\n"
   ]
  },
  {
   "cell_type": "code",
   "execution_count": null,
   "metadata": {},
   "outputs": [],
   "source": [
    "dataset = pt.get_dataset(\"irds:antique\")"
   ]
  },
  {
   "cell_type": "markdown",
   "metadata": {},
   "source": [
    "Now we can print one of the documents in the corpus:\n"
   ]
  },
  {
   "cell_type": "code",
   "execution_count": null,
   "metadata": {},
   "outputs": [],
   "source": [
    "from pprint import pprint\n",
    "\n",
    "for doc in dataset.get_corpus_iter():\n",
    "    pprint(doc)\n",
    "    break"
   ]
  },
  {
   "cell_type": "markdown",
   "metadata": {},
   "source": [
    "If you see a document above now: Congratulations! The setup was successful. If not: Take a look at the [troubleshooting section](https://pyterrier.readthedocs.io/en/latest/installation.html#installation-troubleshooting) in the official documentation.\n"
   ]
  }
 ],
 "metadata": {
  "kernelspec": {
   "display_name": "pt",
   "language": "python",
   "name": "python3"
  },
  "language_info": {
   "codemirror_mode": {
    "name": "ipython",
    "version": 3
   },
   "file_extension": ".py",
   "mimetype": "text/x-python",
   "name": "python",
   "nbconvert_exporter": "python",
   "pygments_lexer": "ipython3",
   "version": "3.11.7"
  }
 },
 "nbformat": 4,
 "nbformat_minor": 2
}

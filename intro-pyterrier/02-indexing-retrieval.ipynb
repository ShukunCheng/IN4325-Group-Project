{
 "cells": [
  {
   "cell_type": "markdown",
   "metadata": {},
   "source": [
    "# Introduction to PyTerrier\n",
    "\n",
    "_IN4325: Information retrieval lecture, TU Delft_\n",
    "\n",
    "**Part 2: Indexing & retrieval**\n",
    "\n",
    "In this notebook we'll learn how to\n",
    "\n",
    "- create a simple searchable index of a document corpus in PyTerrier and\n",
    "- retrieve documents based on a query from that index (_ad-hoc retrieval_).\n"
   ]
  },
  {
   "cell_type": "code",
   "execution_count": null,
   "metadata": {
    "vscode": {
     "languageId": "shellscript"
    }
   },
   "outputs": [],
   "source": [
    "pip install python-terrier"
   ]
  },
  {
   "cell_type": "code",
   "execution_count": null,
   "metadata": {},
   "outputs": [],
   "source": [
    "import pyterrier as pt\n",
    "\n",
    "if not pt.started():\n",
    "    pt.init(tqdm=\"notebook\")"
   ]
  },
  {
   "cell_type": "markdown",
   "metadata": {},
   "source": [
    "## The data\n",
    "\n",
    "For our simple example, we'll use a collection of works by William Shakespeare as our document corpus. They are available, collated in a single text file, [here](https://ocw.mit.edu/ans7870/6/6.006/s08/lecturenotes/files/t8.shakespeare.txt). We can download this file directly:\n"
   ]
  },
  {
   "cell_type": "code",
   "execution_count": null,
   "metadata": {},
   "outputs": [],
   "source": [
    "from urllib import request\n",
    "\n",
    "with request.urlopen(\n",
    "    \"https://ocw.mit.edu/ans7870/6/6.006/s08/lecturenotes/files/t8.shakespeare.txt\"\n",
    ") as u:\n",
    "    shakespeare_complete = u.read().decode(\"utf-8\")"
   ]
  },
  {
   "cell_type": "markdown",
   "metadata": {},
   "source": [
    "Before we can index the works, we need to parse and split them somehow. Let's take a look at the first chunk of the file:\n"
   ]
  },
  {
   "cell_type": "code",
   "execution_count": null,
   "metadata": {},
   "outputs": [],
   "source": [
    "print(shakespeare_complete[:15000])"
   ]
  },
  {
   "cell_type": "markdown",
   "metadata": {},
   "source": [
    "You can see that each work starts with\n",
    "\n",
    "```\n",
    "<YEAR>\n",
    "\n",
    "<TITLE>\n",
    "\n",
    "by William Shakespeare\n",
    "```\n",
    "\n",
    "and ends with `THE END`.\n",
    "\n",
    "We can use use a regular expression to extract each individual work (including year and title). We'll package the whole thing as a generator that yields a dictionary for each document, which contains\n",
    "\n",
    "- a document ID,\n",
    "- the year,\n",
    "- the title,\n",
    "- the document text.\n",
    "\n",
    "The unique document ID may be useful to identify documents in the index later. Note that PyTerrier also assigns internal unique IDs itself.\n"
   ]
  },
  {
   "cell_type": "code",
   "execution_count": null,
   "metadata": {},
   "outputs": [],
   "source": [
    "import re\n",
    "\n",
    "\n",
    "def shakespeare_generator():\n",
    "    for i, item in enumerate(\n",
    "        re.compile(\n",
    "            r\"((\\d{4})\\s*?([A-Z ]+)\\s*?by William Shakespeare.*?THE END)\",\n",
    "            re.DOTALL,\n",
    "        ).finditer(shakespeare_complete)\n",
    "    ):\n",
    "        yield {\n",
    "            \"docno\": f\"D{i}\",\n",
    "            \"year\": item.group(2),\n",
    "            \"title\": item.group(3),\n",
    "            \"text\": item.group(1),\n",
    "        }"
   ]
  },
  {
   "cell_type": "markdown",
   "metadata": {},
   "source": [
    "Let's give it a spin and print the first document:\n"
   ]
  },
  {
   "cell_type": "code",
   "execution_count": null,
   "metadata": {},
   "outputs": [],
   "source": [
    "from pprint import pprint\n",
    "\n",
    "for x in shakespeare_generator():\n",
    "    pprint(x)\n",
    "    break"
   ]
  },
  {
   "cell_type": "markdown",
   "metadata": {},
   "source": [
    "## Indexing\n",
    "\n",
    "We can use this generator to index our collection. `pyterrier.IterDictIndexer` will consume our iterator and build the index. We just need to tell it a path for our index (`shakespeare_index`) and the metadata we want to store (along with the corresponding maximum length).\n",
    "\n",
    "Note that we also pass the arguments `stemmer=\"porter\"` and `stopwords=\"terrier\"`; this is optional, as PyTerrier applies Porter stemming and stopword removal by default, but these arguments can be used to customize that behaviour.\n"
   ]
  },
  {
   "cell_type": "code",
   "execution_count": null,
   "metadata": {},
   "outputs": [],
   "source": [
    "from pathlib import Path\n",
    "\n",
    "indexer = pt.IterDictIndexer(\n",
    "    str(Path(\"shakespeare_index\").absolute()),\n",
    "    meta={\n",
    "        \"docno\": 4,\n",
    "        \"year\": 4,\n",
    "        \"title\": 32,\n",
    "        \"text\": 131072,\n",
    "    },\n",
    "    stemmer=\"porter\",\n",
    "    stopwords=\"terrier\",\n",
    ")"
   ]
  },
  {
   "cell_type": "markdown",
   "metadata": {},
   "source": [
    "Now we can index our collection. By default, only the field `text` will be indexed. Since the text contains both year and title in our case, we'll keep the default. To change this behavior, you can set, for example, `fields=(\"text\", \"some_other_field\")` if you want `some_other_field` to be searchable as well.\n",
    "\n",
    "This method returns a _reference_ to our newly created index:\n"
   ]
  },
  {
   "cell_type": "code",
   "execution_count": null,
   "metadata": {},
   "outputs": [],
   "source": [
    "index_ref = indexer.index(shakespeare_generator())"
   ]
  },
  {
   "cell_type": "markdown",
   "metadata": {},
   "source": [
    "There are many different indexers available. For a complete list, click [here](https://pyterrier.readthedocs.io/en/latest/terrier-indexing.html#indexer-classes).\n",
    "\n",
    "## Retrieval\n",
    "\n",
    "In order to search in our index, we use `pyterrier.BatchRetrieve`. [Terrier supports lots of weighting models](http://terrier.org/docs/current/javadoc/org/terrier/matching/models/package-summary.html), and we can specify one using the `wmodel` parameter. For now, we'll use simple TF-IDF.\n",
    "\n",
    "By setting the `metadata` argument, we can tell PyTerrier to retrieve any metadata that we added earlier (such as the titles) along with the document IDs.\n"
   ]
  },
  {
   "cell_type": "code",
   "execution_count": null,
   "metadata": {},
   "outputs": [],
   "source": [
    "tf_idf = pt.BatchRetrieve(\n",
    "    index_ref, wmodel=\"TF_IDF\", num_results=10, metadata=[\"docno\", \"title\"]\n",
    ")"
   ]
  },
  {
   "cell_type": "markdown",
   "metadata": {},
   "source": [
    "This model can be used directly to search. The result is a `pandas.DataFrame`:\n"
   ]
  },
  {
   "cell_type": "code",
   "execution_count": null,
   "metadata": {},
   "outputs": [],
   "source": [
    "tf_idf.search(\"tragedy\")"
   ]
  },
  {
   "cell_type": "markdown",
   "metadata": {},
   "source": [
    "As the name suggests, you can also retrieve documents for a batch of queries, but this needs to be done using a `pandas.DataFrame`:\n"
   ]
  },
  {
   "cell_type": "code",
   "execution_count": null,
   "metadata": {},
   "outputs": [],
   "source": [
    "import pandas as pd\n",
    "\n",
    "tf_idf(\n",
    "    pd.DataFrame(\n",
    "        [\n",
    "            [\"Q1\", \"a public place\"],\n",
    "            [\"Q2\", \"king henry\"],\n",
    "        ],\n",
    "        columns=[\"qid\", \"query\"],\n",
    "    )\n",
    ")"
   ]
  },
  {
   "cell_type": "markdown",
   "metadata": {},
   "source": [
    "## Loading an index\n",
    "\n",
    "Once you have created your index on disk, you can always load it rather than re-indexing the collection every time. Let's delete our index reference and access the index directly from disk:\n"
   ]
  },
  {
   "cell_type": "code",
   "execution_count": null,
   "metadata": {},
   "outputs": [],
   "source": [
    "del index_ref\n",
    "\n",
    "pt.BatchRetrieve(\n",
    "    str(Path(\"shakespeare_index\").absolute()),\n",
    "    wmodel=\"TF_IDF\",\n",
    "    num_results=10,\n",
    "    metadata=[\"docno\", \"title\"],\n",
    ").search(\"tragedy\")"
   ]
  },
  {
   "cell_type": "markdown",
   "metadata": {},
   "source": [
    "Note that, any time you're sharing one index among multiple models, the best practice is to load it into memory once rather than using references:\n"
   ]
  },
  {
   "cell_type": "code",
   "execution_count": null,
   "metadata": {},
   "outputs": [],
   "source": [
    "index = pt.IndexFactory.of(str(Path(\"shakespeare_index\").absolute()))\n",
    "tf_idf = pt.BatchRetrieve(index, wmodel=\"TF_IDF\")\n",
    "dirichlet_lm = pt.BatchRetrieve(index, wmodel=\"DirichletLM\")"
   ]
  },
  {
   "cell_type": "markdown",
   "metadata": {},
   "source": [
    "## Memory indexes\n",
    "\n",
    "The first index we created is saved to and loaded from the disk. Another alternative that can be useful for small corpora is a _memory index_. These are kept entirely in the main memory and are therefore faster.\n",
    "\n",
    "We can create a memory index by specifying `type=pyterrier.index.IndexingType.MEMORY`. Note that the index path must still be valid, even though it will be ignored. Hence, we can simply pass the current working directory:\n"
   ]
  },
  {
   "cell_type": "code",
   "execution_count": null,
   "metadata": {},
   "outputs": [],
   "source": [
    "memory_index = pt.index.IterDictIndexer(\n",
    "    str(Path.cwd()),  # this will be ignored\n",
    "    meta={\n",
    "        \"docno\": 4,\n",
    "        \"year\": 4,\n",
    "        \"title\": 32,\n",
    "        \"text\": 131072,\n",
    "    },\n",
    "    type=pt.index.IndexingType.MEMORY,\n",
    ").index(shakespeare_generator())"
   ]
  },
  {
   "cell_type": "markdown",
   "metadata": {},
   "source": [
    "Now we can use the index just as before:\n"
   ]
  },
  {
   "cell_type": "code",
   "execution_count": null,
   "metadata": {},
   "outputs": [],
   "source": [
    "pt.BatchRetrieve(memory_index, wmodel=\"TF_IDF\").search(\"tragedy\")"
   ]
  },
  {
   "cell_type": "markdown",
   "metadata": {},
   "source": [
    "## Further reading\n",
    "\n",
    "Check out the [indexing guide](https://pyterrier.readthedocs.io/en/latest/terrier-indexing.html) in the official documentation.\n"
   ]
  }
 ],
 "metadata": {
  "kernelspec": {
   "display_name": "pt",
   "language": "python",
   "name": "python3"
  },
  "language_info": {
   "codemirror_mode": {
    "name": "ipython",
    "version": 3
   },
   "file_extension": ".py",
   "mimetype": "text/x-python",
   "name": "python",
   "nbconvert_exporter": "python",
   "pygments_lexer": "ipython3",
   "version": "3.11.7"
  }
 },
 "nbformat": 4,
 "nbformat_minor": 2
}

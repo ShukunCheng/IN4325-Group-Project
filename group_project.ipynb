{
 "cells": [
  {
   "cell_type": "code",
   "execution_count": null,
   "metadata": {
    "collapsed": true
   },
   "outputs": [],
   "source": [
    "pip install python-terrier\n",
    "pip install translate\n",
    "pip install transquest\n",
    "pip install deep-translator\n",
    "pip install translation-quality-estimator\n",
    "pip install tqdm"
   ]
  },
  {
   "cell_type": "markdown",
   "source": [
    "Add IR database"
   ],
   "metadata": {
    "collapsed": false
   }
  },
  {
   "cell_type": "code",
   "execution_count": 1,
   "outputs": [
    {
     "name": "stderr",
     "output_type": "stream",
     "text": [
      "PyTerrier 0.10.0 has loaded Terrier 5.8 (built by craigm on 2023-11-01 18:05) and terrier-helper 0.0.8\n",
      "\n"
     ]
    },
    {
     "name": "stdout",
     "output_type": "stream",
     "text": [
      "          qid                                 query\n",
      "0     1048585            was ist paula deens bruder\n",
      "1           2           androgenrezeptor definieren\n",
      "2      524332       behandlung von ohne medikamente\n",
      "3     1048642                   was ist paranoid sc\n",
      "4      524447  behandlung von krampfadern in beinen\n",
      "...       ...                                   ...\n",
      "6975   734979                   was ist koronar cta\n",
      "6976   524166          transport zu uns bankstadion\n",
      "6977   968921           woher stammen die nachnamen\n",
      "6978   786375        was ist pr operative clearance\n",
      "6979  1048565        wer spielt sebastian michaelis\n",
      "\n",
      "[6980 rows x 2 columns]\n",
      "          qid                                              query\n",
      "0     1048585                     qu es el hermano de paula deen\n",
      "1           2                   el receptor de andr genos define\n",
      "2      524332  tratando dolores de cabeza por tensi n sin med...\n",
      "3     1048642                             lo que es paranoico sc\n",
      "4      524447  tratamiento de las venas varicosas en las piernas\n",
      "...       ...                                                ...\n",
      "6975   734979                            lo que es coronario cta\n",
      "6976   524166                transporte a nosotros banco estadio\n",
      "6977   968921                  d nde se originaron los apellidos\n",
      "6978   786375                qu es el aclaramiento preoperatorio\n",
      "6979  1048565                      que juega michaelis sebastian\n",
      "\n",
      "[6980 rows x 2 columns]\n"
     ]
    }
   ],
   "source": [
    "import pyterrier as pt\n",
    "from typing import Callable\n",
    "import pandas as pd\n",
    "from pathlib import Path\n",
    "from deep_translator import GoogleTranslator\n",
    "import torch\n",
    "from transquest.algo.sentence_level.monotransquest.run_model import MonoTransQuestModel\n",
    "from tqe import TQE\n",
    "from tqdm import tqdm\n",
    "\n",
    "if not pt.started():\n",
    "    pt.init()\n",
    "de_database = pt.datasets.get_dataset(\"irds:mmarco/de/dev/small\")\n",
    "es_database = pt.datasets.get_dataset(\"irds:mmarco/es/dev/small\")\n",
    "fr_database = pt.datasets.get_dataset(\"irds:mmarco/fr/dev/small\")\n",
    "id_database = pt.datasets.get_dataset(\"irds:mmarco/id/dev/small\")\n",
    "pt_database = pt.datasets.get_dataset(\"irds:mmarco/pt/dev/small\")\n",
    "\n",
    "de_queries = de_database.get_topics()[\"query\"].tolist()\n",
    "print(de_database.get_topics()[\"query\"])"
   ],
   "metadata": {
    "collapsed": false,
    "ExecuteTime": {
     "start_time": "2024-03-30T18:20:00.735482Z",
     "end_time": "2024-03-30T18:20:05.499670Z"
    }
   }
  },
  {
   "cell_type": "code",
   "execution_count": 2,
   "outputs": [
    {
     "name": "stderr",
     "output_type": "stream",
     "text": [
      "mmarco/es/dev/small documents:   1%|          | 77955/8841823 [00:26<47:01, 3106.27it/s]  "
     ]
    },
    {
     "name": "stdout",
     "output_type": "stream",
     "text": [
      "18:20:32.505 [main] WARN org.terrier.structures.indexing.Indexer - Adding an empty document to the index (78021) - further warnings are suppressed\r\n"
     ]
    },
    {
     "name": "stderr",
     "output_type": "stream",
     "text": [
      "mmarco/es/dev/small documents: 100%|██████████| 8841823/8841823 [53:02<00:00, 2777.84it/s]  \n"
     ]
    },
    {
     "name": "stdout",
     "output_type": "stream",
     "text": [
      "19:15:01.616 [main] WARN org.terrier.structures.indexing.Indexer - Indexed 117 empty documents\r\n"
     ]
    }
   ],
   "source": [
    "IDX_PATH = Path(\"index\").absolute()\n",
    "\n",
    "def evaluate(df: pd.DataFrame, dataset, rewrite_func: Callable[[str], str] = None) -> float:\n",
    "    indexer = pt.IterDictIndexer(str(IDX_PATH))\n",
    "    indexref = indexer.index(dataset.get_corpus_iter())\n",
    "\n",
    "    bm25 = pt.BatchRetrieve(indexref, wmodel=\"BM25\")\n",
    "    tfidf = pt.BatchRetrieve(indexref, wmodel=\"TF_IDF\")\n",
    "    return pt.Experiment(\n",
    "        [tfidf, bm25],\n",
    "        df,\n",
    "        dataset.get_qrels(),\n",
    "        eval_metrics=[\"map\"],\n",
    "    )[\"map\", \"recip_rank\"]"
   ],
   "metadata": {
    "collapsed": false,
    "ExecuteTime": {
     "start_time": "2024-03-30T18:20:05.498669Z",
     "end_time": "2024-03-30T19:15:01.647534Z"
    }
   }
  },
  {
   "cell_type": "code",
   "execution_count": 3,
   "outputs": [
    {
     "name": "stdout",
     "output_type": "stream",
     "text": [
      "Computing embeddings for strings in list 1\n"
     ]
    },
    {
     "data": {
      "text/plain": "Batches:   0%|          | 0/219 [00:00<?, ?it/s]",
      "application/vnd.jupyter.widget-view+json": {
       "version_major": 2,
       "version_minor": 0,
       "model_id": "e818cf3362774bcbb872f7925525b04d"
      }
     },
     "metadata": {},
     "output_type": "display_data"
    },
    {
     "name": "stdout",
     "output_type": "stream",
     "text": [
      "Computing embeddings for strings in list 2\n"
     ]
    },
    {
     "data": {
      "text/plain": "Batches:   0%|          | 0/219 [00:00<?, ?it/s]",
      "application/vnd.jupyter.widget-view+json": {
       "version_major": 2,
       "version_minor": 0,
       "model_id": "234ae3274ec942a69f64f28c48d77107"
      }
     },
     "metadata": {},
     "output_type": "display_data"
    },
    {
     "name": "stdout",
     "output_type": "stream",
     "text": [
      "Computing cosine similarity scores\n",
      "0.8054627507163317\n"
     ]
    }
   ],
   "source": [
    "# Get translated queries and score\n",
    "translated_de_to_es_queries = []\n",
    "\n",
    "try:\n",
    "    with open(\"translated_de_to_es_queries.txt\", \"r\") as f:\n",
    "        for line in f:\n",
    "            translated_de_to_es_queries.append(line.strip())\n",
    "except Exception as e:\n",
    "    translator = GoogleTranslator(source=\"de\", target=\"es\")\n",
    "    for de_query in tqdm(de_queries):\n",
    "        translated_de_to_es_queries.append(translator.translate(de_query))\n",
    "\n",
    "with open(\"translated_de_to_es_queries.txt\", \"w\") as f:\n",
    "    for q in translated_de_to_es_queries:\n",
    "        f.write(q + \"\\n\")\n",
    "\n",
    "model = TQE()\n",
    "translate_score = model.fit(de_queries, translated_de_to_es_queries)\n",
    "print(sum(translate_score) / len(translate_score))"
   ],
   "metadata": {
    "collapsed": false,
    "ExecuteTime": {
     "start_time": "2024-03-30T19:15:01.659536Z",
     "end_time": "2024-03-30T19:16:58.618121Z"
    }
   }
  },
  {
   "cell_type": "code",
   "execution_count": 5,
   "outputs": [
    {
     "name": "stdout",
     "output_type": "stream",
     "text": [
      "          qid                                           query\n",
      "0     1048585              ¿Cuál es el hermano de Paula Deen?\n",
      "1           2                  Definir receptor de andrógenos\n",
      "2      524332                      tratamiento sin medicación\n",
      "3     1048642                           ¿Qué es SC paranoico?\n",
      "4      524447      Tratamiento de las varices en las piernas.\n",
      "...       ...                                             ...\n",
      "6975   734979                       ¿Qué es el cta coronario?\n",
      "6976   524166  transporte al estadio del banco estadounidense\n",
      "6977   968921                 ¿De dónde vienen los apellidos?\n",
      "6978   786375               ¿Qué es el permiso preoperatorio?\n",
      "6979  1048565          quien interpreta a sebastián michaelis\n",
      "\n",
      "[6980 rows x 2 columns]\n",
      "19:50:39.682 [main] WARN org.terrier.structures.BaseCompressingMetaIndex - Structure meta reading data file directly from disk (SLOW) - try index.meta.data-source=fileinmem in the index properties file. 2,2 GiB of memory would be required.\r\n"
     ]
    },
    {
     "ename": "JavaException",
     "evalue": "JVM exception occurred: Failed to process qid 1048585 '¿Cuál es el hermano de Paula Deen?' -- Lexical error at line 1, column 35.  Encountered: <EOF> after : \"\" org.terrier.querying.parser.QueryParserException",
     "output_type": "error",
     "traceback": [
      "\u001B[1;31m---------------------------------------------------------------------------\u001B[0m",
      "\u001B[1;31mJavaException\u001B[0m                             Traceback (most recent call last)",
      "Cell \u001B[1;32mIn[5], line 5\u001B[0m\n\u001B[0;32m      3\u001B[0m test_topics[\u001B[38;5;124m\"\u001B[39m\u001B[38;5;124mquery\u001B[39m\u001B[38;5;124m\"\u001B[39m] \u001B[38;5;241m=\u001B[39m translated_de_to_es_queries\n\u001B[0;32m      4\u001B[0m \u001B[38;5;28mprint\u001B[39m(test_topics)\n\u001B[1;32m----> 5\u001B[0m \u001B[38;5;28mprint\u001B[39m(\u001B[43mevaluate\u001B[49m\u001B[43m(\u001B[49m\u001B[43mtest_topics\u001B[49m\u001B[43m,\u001B[49m\u001B[43m \u001B[49m\u001B[43mes_database\u001B[49m\u001B[43m)\u001B[49m)\n",
      "Cell \u001B[1;32mIn[2], line 16\u001B[0m, in \u001B[0;36mevaluate\u001B[1;34m(df, dataset, rewrite_func)\u001B[0m\n\u001B[0;32m      8\u001B[0m bm25 \u001B[38;5;241m=\u001B[39m pt\u001B[38;5;241m.\u001B[39mBatchRetrieve(\n\u001B[0;32m      9\u001B[0m     \u001B[38;5;28mstr\u001B[39m(IDX_PATH),\n\u001B[0;32m     10\u001B[0m     wmodel\u001B[38;5;241m=\u001B[39m\u001B[38;5;124m\"\u001B[39m\u001B[38;5;124mBM25\u001B[39m\u001B[38;5;124m\"\u001B[39m,\n\u001B[1;32m   (...)\u001B[0m\n\u001B[0;32m     13\u001B[0m     controls\u001B[38;5;241m=\u001B[39m{\u001B[38;5;124m\"\u001B[39m\u001B[38;5;124mqe\u001B[39m\u001B[38;5;124m\"\u001B[39m: \u001B[38;5;124m\"\u001B[39m\u001B[38;5;124moff\u001B[39m\u001B[38;5;124m\"\u001B[39m},\n\u001B[0;32m     14\u001B[0m )\n\u001B[0;32m     15\u001B[0m \u001B[38;5;66;03m# tfidf = pt.BatchRetrieve(str(IDX_PATH), wmodel=\"TF_IDF\")\u001B[39;00m\n\u001B[1;32m---> 16\u001B[0m \u001B[38;5;28;01mreturn\u001B[39;00m \u001B[43mpt\u001B[49m\u001B[38;5;241;43m.\u001B[39;49m\u001B[43mExperiment\u001B[49m\u001B[43m(\u001B[49m\n\u001B[0;32m     17\u001B[0m \u001B[43m    \u001B[49m\u001B[43m[\u001B[49m\u001B[43mbm25\u001B[49m\u001B[43m]\u001B[49m\u001B[43m,\u001B[49m\n\u001B[0;32m     18\u001B[0m \u001B[43m    \u001B[49m\u001B[43mdf\u001B[49m\u001B[43m,\u001B[49m\n\u001B[0;32m     19\u001B[0m \u001B[43m    \u001B[49m\u001B[43mdataset\u001B[49m\u001B[38;5;241;43m.\u001B[39;49m\u001B[43mget_qrels\u001B[49m\u001B[43m(\u001B[49m\u001B[43m)\u001B[49m\u001B[43m,\u001B[49m\n\u001B[0;32m     20\u001B[0m \u001B[43m    \u001B[49m\u001B[43meval_metrics\u001B[49m\u001B[38;5;241;43m=\u001B[39;49m\u001B[43m[\u001B[49m\u001B[38;5;124;43m\"\u001B[39;49m\u001B[38;5;124;43mmap\u001B[39;49m\u001B[38;5;124;43m\"\u001B[39;49m\u001B[43m]\u001B[49m\u001B[43m,\u001B[49m\n\u001B[0;32m     21\u001B[0m \u001B[43m\u001B[49m\u001B[43m)\u001B[49m[\u001B[38;5;124m\"\u001B[39m\u001B[38;5;124mmap\u001B[39m\u001B[38;5;124m\"\u001B[39m, \u001B[38;5;124m\"\u001B[39m\u001B[38;5;124mrecip_rank\u001B[39m\u001B[38;5;124m\"\u001B[39m]\n",
      "File \u001B[1;32mF:\\Computer Science Master\\Year 1 Quarter 3\\IN4325 Information Retrieval\\Group Project\\venv\\Lib\\site-packages\\pyterrier\\pipelines.py:471\u001B[0m, in \u001B[0;36mExperiment\u001B[1;34m(retr_systems, topics, qrels, eval_metrics, names, perquery, dataframe, batch_size, filter_by_qrels, filter_by_topics, baseline, test, correction, correction_alpha, highlight, round, verbose, save_dir, save_mode, **kwargs)\u001B[0m\n\u001B[0;32m    468\u001B[0m \u001B[38;5;28;01mif\u001B[39;00m save_dir \u001B[38;5;129;01mis\u001B[39;00m \u001B[38;5;129;01mnot\u001B[39;00m \u001B[38;5;28;01mNone\u001B[39;00m:\n\u001B[0;32m    469\u001B[0m     save_file \u001B[38;5;241m=\u001B[39m os\u001B[38;5;241m.\u001B[39mpath\u001B[38;5;241m.\u001B[39mjoin(save_dir, \u001B[38;5;124m\"\u001B[39m\u001B[38;5;132;01m%s\u001B[39;00m\u001B[38;5;124m.res.gz\u001B[39m\u001B[38;5;124m\"\u001B[39m \u001B[38;5;241m%\u001B[39m name)\n\u001B[1;32m--> 471\u001B[0m time, evalMeasuresDict \u001B[38;5;241m=\u001B[39m \u001B[43m_run_and_evaluate\u001B[49m\u001B[43m(\u001B[49m\n\u001B[0;32m    472\u001B[0m \u001B[43m    \u001B[49m\u001B[43msystem\u001B[49m\u001B[43m,\u001B[49m\u001B[43m \u001B[49m\u001B[43mtopics\u001B[49m\u001B[43m,\u001B[49m\u001B[43m \u001B[49m\u001B[43mqrels\u001B[49m\u001B[43m,\u001B[49m\u001B[43m \u001B[49m\u001B[43meval_metrics\u001B[49m\u001B[43m,\u001B[49m\u001B[43m \u001B[49m\n\u001B[0;32m    473\u001B[0m \u001B[43m    \u001B[49m\u001B[43mperquery\u001B[49m\u001B[38;5;241;43m=\u001B[39;49m\u001B[43mperquery\u001B[49m\u001B[43m \u001B[49m\u001B[38;5;129;43;01mor\u001B[39;49;00m\u001B[43m \u001B[49m\u001B[43mbaseline\u001B[49m\u001B[43m \u001B[49m\u001B[38;5;129;43;01mis\u001B[39;49;00m\u001B[43m \u001B[49m\u001B[38;5;129;43;01mnot\u001B[39;49;00m\u001B[43m \u001B[49m\u001B[38;5;28;43;01mNone\u001B[39;49;00m\u001B[43m,\u001B[49m\u001B[43m \u001B[49m\n\u001B[0;32m    474\u001B[0m \u001B[43m    \u001B[49m\u001B[43mbatch_size\u001B[49m\u001B[38;5;241;43m=\u001B[39;49m\u001B[43mbatch_size\u001B[49m\u001B[43m,\u001B[49m\u001B[43m \u001B[49m\n\u001B[0;32m    475\u001B[0m \u001B[43m    \u001B[49m\u001B[43mbackfill_qids\u001B[49m\u001B[38;5;241;43m=\u001B[39;49m\u001B[43mall_topic_qids\u001B[49m\u001B[43m \u001B[49m\u001B[38;5;28;43;01mif\u001B[39;49;00m\u001B[43m \u001B[49m\u001B[43mperquery\u001B[49m\u001B[43m \u001B[49m\u001B[38;5;28;43;01melse\u001B[39;49;00m\u001B[43m \u001B[49m\u001B[38;5;28;43;01mNone\u001B[39;49;00m\u001B[43m,\u001B[49m\n\u001B[0;32m    476\u001B[0m \u001B[43m    \u001B[49m\u001B[43msave_file\u001B[49m\u001B[38;5;241;43m=\u001B[39;49m\u001B[43msave_file\u001B[49m\u001B[43m,\u001B[49m\n\u001B[0;32m    477\u001B[0m \u001B[43m    \u001B[49m\u001B[43msave_mode\u001B[49m\u001B[38;5;241;43m=\u001B[39;49m\u001B[43msave_mode\u001B[49m\u001B[43m,\u001B[49m\n\u001B[0;32m    478\u001B[0m \u001B[43m    \u001B[49m\u001B[43mpbar\u001B[49m\u001B[38;5;241;43m=\u001B[39;49m\u001B[43mpbar\u001B[49m\u001B[43m)\u001B[49m\n\u001B[0;32m    480\u001B[0m \u001B[38;5;28;01mif\u001B[39;00m baseline \u001B[38;5;129;01mis\u001B[39;00m \u001B[38;5;129;01mnot\u001B[39;00m \u001B[38;5;28;01mNone\u001B[39;00m:\n\u001B[0;32m    481\u001B[0m     evalDictsPerQ\u001B[38;5;241m.\u001B[39mappend(evalMeasuresDict)\n",
      "File \u001B[1;32mF:\\Computer Science Master\\Year 1 Quarter 3\\IN4325 Information Retrieval\\Group Project\\venv\\Lib\\site-packages\\pyterrier\\pipelines.py:192\u001B[0m, in \u001B[0;36m_run_and_evaluate\u001B[1;34m(system, topics, qrels, metrics, pbar, save_mode, save_file, perquery, batch_size, backfill_qids)\u001B[0m\n\u001B[0;32m    188\u001B[0m \u001B[38;5;28;01melif\u001B[39;00m batch_size \u001B[38;5;129;01mis\u001B[39;00m \u001B[38;5;28;01mNone\u001B[39;00m:\n\u001B[0;32m    189\u001B[0m     \u001B[38;5;66;03m#transformer, evaluate all queries at once\u001B[39;00m\n\u001B[0;32m    191\u001B[0m     starttime \u001B[38;5;241m=\u001B[39m timer()\n\u001B[1;32m--> 192\u001B[0m     res \u001B[38;5;241m=\u001B[39m \u001B[43msystem\u001B[49m\u001B[38;5;241;43m.\u001B[39;49m\u001B[43mtransform\u001B[49m\u001B[43m(\u001B[49m\u001B[43mtopics\u001B[49m\u001B[43m)\u001B[49m\n\u001B[0;32m    193\u001B[0m     endtime \u001B[38;5;241m=\u001B[39m timer()\n\u001B[0;32m    194\u001B[0m     runtime \u001B[38;5;241m=\u001B[39m  (endtime \u001B[38;5;241m-\u001B[39m starttime) \u001B[38;5;241m*\u001B[39m \u001B[38;5;241m1000.\u001B[39m\n",
      "File \u001B[1;32mF:\\Computer Science Master\\Year 1 Quarter 3\\IN4325 Information Retrieval\\Group Project\\venv\\Lib\\site-packages\\pyterrier\\batchretrieve.py:441\u001B[0m, in \u001B[0;36mBatchRetrieve.transform\u001B[1;34m(self, queries)\u001B[0m\n\u001B[0;32m    439\u001B[0m         \u001B[38;5;28miter\u001B[39m \u001B[38;5;241m=\u001B[39m tqdm(\u001B[38;5;28miter\u001B[39m, desc\u001B[38;5;241m=\u001B[39m\u001B[38;5;28mstr\u001B[39m(\u001B[38;5;28mself\u001B[39m), total\u001B[38;5;241m=\u001B[39mqueries\u001B[38;5;241m.\u001B[39mshape[\u001B[38;5;241m0\u001B[39m], unit\u001B[38;5;241m=\u001B[39m\u001B[38;5;124m\"\u001B[39m\u001B[38;5;124mq\u001B[39m\u001B[38;5;124m\"\u001B[39m)\n\u001B[0;32m    440\u001B[0m     \u001B[38;5;28;01mfor\u001B[39;00m row \u001B[38;5;129;01min\u001B[39;00m \u001B[38;5;28miter\u001B[39m:\n\u001B[1;32m--> 441\u001B[0m         res \u001B[38;5;241m=\u001B[39m \u001B[38;5;28;43mself\u001B[39;49m\u001B[38;5;241;43m.\u001B[39;49m\u001B[43m_retrieve_one\u001B[49m\u001B[43m(\u001B[49m\u001B[43mrow\u001B[49m\u001B[43m,\u001B[49m\u001B[43m \u001B[49m\u001B[43minput_results\u001B[49m\u001B[43m,\u001B[49m\u001B[43m \u001B[49m\u001B[43mdocno_provided\u001B[49m\u001B[38;5;241;43m=\u001B[39;49m\u001B[43mdocno_provided\u001B[49m\u001B[43m,\u001B[49m\u001B[43m \u001B[49m\u001B[43mdocid_provided\u001B[49m\u001B[38;5;241;43m=\u001B[39;49m\u001B[43mdocid_provided\u001B[49m\u001B[43m,\u001B[49m\u001B[43m \u001B[49m\u001B[43mscores_provided\u001B[49m\u001B[38;5;241;43m=\u001B[39;49m\u001B[43mscores_provided\u001B[49m\u001B[43m)\u001B[49m\n\u001B[0;32m    442\u001B[0m         results\u001B[38;5;241m.\u001B[39mextend(res)\n\u001B[0;32m    444\u001B[0m res_dt \u001B[38;5;241m=\u001B[39m pd\u001B[38;5;241m.\u001B[39mDataFrame(results, columns\u001B[38;5;241m=\u001B[39m[\u001B[38;5;124m'\u001B[39m\u001B[38;5;124mqid\u001B[39m\u001B[38;5;124m'\u001B[39m, \u001B[38;5;124m'\u001B[39m\u001B[38;5;124mdocid\u001B[39m\u001B[38;5;124m'\u001B[39m ] \u001B[38;5;241m+\u001B[39m \u001B[38;5;28mself\u001B[39m\u001B[38;5;241m.\u001B[39mmetadata \u001B[38;5;241m+\u001B[39m [\u001B[38;5;124m'\u001B[39m\u001B[38;5;124mrank\u001B[39m\u001B[38;5;124m'\u001B[39m, \u001B[38;5;124m'\u001B[39m\u001B[38;5;124mscore\u001B[39m\u001B[38;5;124m'\u001B[39m])\n",
      "File \u001B[1;32mF:\\Computer Science Master\\Year 1 Quarter 3\\IN4325 Information Retrieval\\Group Project\\venv\\Lib\\site-packages\\pyterrier\\batchretrieve.py:352\u001B[0m, in \u001B[0;36mBatchRetrieve._retrieve_one\u001B[1;34m(self, row, input_results, docno_provided, docid_provided, scores_provided)\u001B[0m\n\u001B[0;32m    349\u001B[0m     srq\u001B[38;5;241m.\u001B[39msetControl(\u001B[38;5;124m\"\u001B[39m\u001B[38;5;124mmatching\u001B[39m\u001B[38;5;124m\"\u001B[39m, \u001B[38;5;124m\"\u001B[39m\u001B[38;5;124morg.terrier.matching.ScoringMatching\u001B[39m\u001B[38;5;124m\"\u001B[39m \u001B[38;5;241m+\u001B[39m \u001B[38;5;124m\"\u001B[39m\u001B[38;5;124m,\u001B[39m\u001B[38;5;124m\"\u001B[39m \u001B[38;5;241m+\u001B[39m srq\u001B[38;5;241m.\u001B[39mgetControl(\u001B[38;5;124m\"\u001B[39m\u001B[38;5;124mmatching\u001B[39m\u001B[38;5;124m\"\u001B[39m))\n\u001B[0;32m    351\u001B[0m \u001B[38;5;66;03m# now ask Terrier to run the request\u001B[39;00m\n\u001B[1;32m--> 352\u001B[0m \u001B[38;5;28;43mself\u001B[39;49m\u001B[38;5;241;43m.\u001B[39;49m\u001B[43mmanager\u001B[49m\u001B[38;5;241;43m.\u001B[39;49m\u001B[43mrunSearchRequest\u001B[49m\u001B[43m(\u001B[49m\u001B[43msrq\u001B[49m\u001B[43m)\u001B[49m\n\u001B[0;32m    353\u001B[0m result \u001B[38;5;241m=\u001B[39m srq\u001B[38;5;241m.\u001B[39mgetResults()\n\u001B[0;32m    355\u001B[0m \u001B[38;5;66;03m# check we got all of the expected metadata (if the resultset has a size at all)\u001B[39;00m\n",
      "File \u001B[1;32mjnius\\\\jnius_export_class.pxi:877\u001B[0m, in \u001B[0;36mjnius.JavaMethod.__call__\u001B[1;34m()\u001B[0m\n",
      "File \u001B[1;32mjnius\\\\jnius_export_class.pxi:971\u001B[0m, in \u001B[0;36mjnius.JavaMethod.call_method\u001B[1;34m()\u001B[0m\n",
      "File \u001B[1;32mjnius\\\\jnius_utils.pxi:79\u001B[0m, in \u001B[0;36mjnius.check_exception\u001B[1;34m()\u001B[0m\n",
      "\u001B[1;31mJavaException\u001B[0m: JVM exception occurred: Failed to process qid 1048585 '¿Cuál es el hermano de Paula Deen?' -- Lexical error at line 1, column 35.  Encountered: <EOF> after : \"\" org.terrier.querying.parser.QueryParserException"
     ]
    }
   ],
   "source": [
    "# Evaluate querying score\n",
    "test_topics = de_database.get_topics()\n",
    "test_topics[\"query\"] = translated_de_to_es_queries\n",
    "print(evaluate(test_topics, es_database))"
   ],
   "metadata": {
    "collapsed": false,
    "ExecuteTime": {
     "start_time": "2024-03-30T14:44:02.096287Z",
     "end_time": "2024-03-30T14:44:02.292567Z"
    }
   }
  },
  {
   "cell_type": "code",
   "execution_count": null,
   "outputs": [],
   "source": [],
   "metadata": {
    "collapsed": false
   }
  }
 ],
 "metadata": {
  "kernelspec": {
   "display_name": "Python 3",
   "language": "python",
   "name": "python3"
  },
  "language_info": {
   "codemirror_mode": {
    "name": "ipython",
    "version": 2
   },
   "file_extension": ".py",
   "mimetype": "text/x-python",
   "name": "python",
   "nbconvert_exporter": "python",
   "pygments_lexer": "ipython2",
   "version": "2.7.6"
  }
 },
 "nbformat": 4,
 "nbformat_minor": 0
}
